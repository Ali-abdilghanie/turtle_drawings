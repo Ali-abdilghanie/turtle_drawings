{
 "cells": [
  {
   "cell_type": "code",
   "execution_count": 6,
   "id": "0b7ea8ba-21a4-446f-81be-8c8c4929128a",
   "metadata": {},
   "outputs": [],
   "source": [
    "address=\"2609 barrington dr\""
   ]
  },
  {
   "cell_type": "code",
   "execution_count": 7,
   "id": "c27489df-6957-4493-ad1c-c8190800f4a6",
   "metadata": {},
   "outputs": [
    {
     "name": "stdout",
     "output_type": "stream",
     "text": [
      "your address is 2609 barrington dr\n"
     ]
    }
   ],
   "source": [
    "print(\"your address is\", address)"
   ]
  },
  {
   "cell_type": "code",
   "execution_count": 9,
   "id": "5cb072d4-f7c3-4fe9-a288-cf244d2b82b4",
   "metadata": {},
   "outputs": [],
   "source": [
    "house_number=2609"
   ]
  },
  {
   "cell_type": "code",
   "execution_count": 10,
   "id": "de606572-50f5-4824-8f4a-140ad0d5acd5",
   "metadata": {},
   "outputs": [],
   "source": [
    "street_name=\"barrington dr east\""
   ]
  },
  {
   "cell_type": "code",
   "execution_count": 11,
   "id": "6fba9fd7-f9bf-4c13-8e23-3cc4dbe260af",
   "metadata": {},
   "outputs": [],
   "source": [
    "city_name=\"Aroura\""
   ]
  },
  {
   "cell_type": "code",
   "execution_count": 12,
   "id": "8e934453-0463-4c16-b7aa-524fe8248fa0",
   "metadata": {},
   "outputs": [],
   "source": [
    "state_name=\"IL\""
   ]
  },
  {
   "cell_type": "code",
   "execution_count": 15,
   "id": "6964b1a0-a127-452a-960c-c83fc36ae563",
   "metadata": {},
   "outputs": [],
   "source": [
    "zip_code=60503"
   ]
  },
  {
   "cell_type": "code",
   "execution_count": 16,
   "id": "a81094a4-2b57-46c7-a3f0-b923d54783b7",
   "metadata": {},
   "outputs": [
    {
     "name": "stdout",
     "output_type": "stream",
     "text": [
      "your address is 2609 barrington dr east Aroura IL 60503\n"
     ]
    }
   ],
   "source": [
    "print(\"your address is\",house_number,street_name,city_name,state_name,zip_code)"
   ]
  },
  {
   "cell_type": "code",
   "execution_count": 17,
   "id": "41b90846-902c-4d17-8987-b82beae665cd",
   "metadata": {},
   "outputs": [],
   "source": [
    "team_name=\"Chelsea\""
   ]
  },
  {
   "cell_type": "code",
   "execution_count": 24,
   "id": "074d4ec5-4104-4209-9ea3-a521b93cd337",
   "metadata": {},
   "outputs": [],
   "source": [
    "club_name=\"WAA\""
   ]
  },
  {
   "cell_type": "code",
   "execution_count": 26,
   "id": "d7badac6-3b38-49c2-ab8c-ad4ca0041d03",
   "metadata": {},
   "outputs": [],
   "source": [
    "jersey_colors=[\"green\",\"yellow\"]"
   ]
  },
  {
   "cell_type": "code",
   "execution_count": 22,
   "id": "5187bfa9-60f4-47f8-9156-d36f06494c20",
   "metadata": {},
   "outputs": [],
   "source": [
    "date=\"02/15/2022 1:00:00 PM\""
   ]
  },
  {
   "cell_type": "code",
   "execution_count": 27,
   "id": "fe6abfaa-0802-43bf-8b2b-0474d5c04abf",
   "metadata": {},
   "outputs": [
    {
     "name": "stdout",
     "output_type": "stream",
     "text": [
      "Chelsea will play a match at 02/15/2022 1:00:00 PM in WAA wearing green\n"
     ]
    }
   ],
   "source": [
    "print(team_name ,\"will play a match at\",date,'in',club_name,\"wearing\",jersey_colors[0])"
   ]
  },
  {
   "cell_type": "code",
   "execution_count": 30,
   "id": "05a4f871-eb3d-4d3f-9ae3-316dff3599b1",
   "metadata": {},
   "outputs": [],
   "source": [
    "food=[\"mac&cheese\",\"chocolate milk\",\"carrots\",\"fries\"]"
   ]
  },
  {
   "cell_type": "code",
   "execution_count": 37,
   "id": "1af57424-b2b5-4004-965c-ef51486d50a8",
   "metadata": {},
   "outputs": [
    {
     "name": "stdin",
     "output_type": "stream",
     "text": [
      "pick a number between 1-4 2\n"
     ]
    }
   ],
   "source": [
    "index=eval(input(\"pick a number between 1-4\"))"
   ]
  },
  {
   "cell_type": "code",
   "execution_count": 38,
   "id": "891f94eb-b7ea-4a75-bea0-d157ed96df44",
   "metadata": {},
   "outputs": [
    {
     "name": "stdout",
     "output_type": "stream",
     "text": [
      "congrats you have chosen chocolate milk\n"
     ]
    }
   ],
   "source": [
    "print(\"congrats you have chosen\",food[index-1])"
   ]
  },
  {
   "cell_type": "code",
   "execution_count": null,
   "id": "d26f5473-464e-4a9a-a303-b0f6dc008626",
   "metadata": {},
   "outputs": [],
   "source": []
  }
 ],
 "metadata": {
  "kernelspec": {
   "display_name": "Python 3 (ipykernel)",
   "language": "python",
   "name": "python3"
  },
  "language_info": {
   "codemirror_mode": {
    "name": "ipython",
    "version": 3
   },
   "file_extension": ".py",
   "mimetype": "text/x-python",
   "name": "python",
   "nbconvert_exporter": "python",
   "pygments_lexer": "ipython3",
   "version": "3.10.1"
  }
 },
 "nbformat": 4,
 "nbformat_minor": 5
}
