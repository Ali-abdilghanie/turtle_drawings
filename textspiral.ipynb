{
 "cells": [
  {
   "cell_type": "code",
   "execution_count": 1,
   "id": "78aa2a22-0811-4f1b-8b23-4faf4acb1375",
   "metadata": {},
   "outputs": [],
   "source": [
    "import turtle"
   ]
  },
  {
   "cell_type": "code",
   "execution_count": 2,
   "id": "c4c55fb5-3556-4993-9e54-ad21d7b7bee4",
   "metadata": {},
   "outputs": [],
   "source": [
    "t = turtle.Pen()"
   ]
  },
  {
   "cell_type": "code",
   "execution_count": 3,
   "id": "ffab7346-631a-46e4-8f8c-548063217e79",
   "metadata": {},
   "outputs": [],
   "source": [
    "turtle.bgcolor(\"black\")"
   ]
  },
  {
   "cell_type": "code",
   "execution_count": 4,
   "id": "186fd332-7704-4fa0-a49a-1a9f7f25990c",
   "metadata": {},
   "outputs": [],
   "source": [
    "colors = [\"red\", \"yellow\",\"blue\",\"green\"]"
   ]
  },
  {
   "cell_type": "code",
   "execution_count": 5,
   "id": "761659e7-ba1a-409c-8c0e-8653f78a7c60",
   "metadata": {},
   "outputs": [],
   "source": [
    "your_name= turtle.textinput(\"enter your name\", \"what is your name?\")\n"
   ]
  },
  {
   "cell_type": "code",
   "execution_count": 7,
   "id": "d7676bf2-8d38-48f3-a1e1-9481a0677b1c",
   "metadata": {},
   "outputs": [],
   "source": [
    "for x in range(100):\n",
    "    t.pencolor(colors[x % 4])\n",
    "    t.penup()\n",
    "    t.forward(x*4)\n",
    "    t.pendown()\n",
    "    t.write(your_name, font =(\"Arial\", int((x + 4)/4),\"bold\"))\n",
    "    t.left(92)\n",
    "                 "
   ]
  },
  {
   "cell_type": "code",
   "execution_count": null,
   "id": "71e68456-406d-41f2-9a6b-7354f7c92187",
   "metadata": {},
   "outputs": [],
   "source": []
  },
  {
   "cell_type": "code",
   "execution_count": null,
   "id": "c2546eda-98d5-4ecd-a0d8-4a5c3e03d964",
   "metadata": {},
   "outputs": [],
   "source": []
  },
  {
   "cell_type": "code",
   "execution_count": null,
   "id": "a7cc3419-248e-4bc4-a4c8-a346232776eb",
   "metadata": {},
   "outputs": [],
   "source": []
  },
  {
   "cell_type": "code",
   "execution_count": null,
   "id": "12581e06-1c44-4618-a7c0-667ea6ad8712",
   "metadata": {},
   "outputs": [],
   "source": []
  }
 ],
 "metadata": {
  "kernelspec": {
   "display_name": "Python 3 (ipykernel)",
   "language": "python",
   "name": "python3"
  },
  "language_info": {
   "codemirror_mode": {
    "name": "ipython",
    "version": 3
   },
   "file_extension": ".py",
   "mimetype": "text/x-python",
   "name": "python",
   "nbconvert_exporter": "python",
   "pygments_lexer": "ipython3",
   "version": "3.10.1"
  }
 },
 "nbformat": 4,
 "nbformat_minor": 5
}
